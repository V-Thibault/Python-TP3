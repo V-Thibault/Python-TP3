{
 "cells": [
  {
   "cell_type": "code",
   "execution_count": 2,
   "metadata": {},
   "outputs": [],
   "source": [
    "#1)\n",
    "# Un service Web va répondre à un besoin, c’est un programme hébergé sur un serveur accessible depuis internet\n",
    "# qui va répondre à des demandes et fournir son service. Par exemple une application qui donne l’heure\n",
    "# va demander quelle heure est-il à un service web qui va lui renvoyer l’heure. "
   ]
  },
  {
   "cell_type": "code",
   "execution_count": 3,
   "metadata": {},
   "outputs": [],
   "source": [
    "#2)\n",
    "#  Une API REST est une API qui respecte les contraintes du style d’architecture REST. \n",
    "#  Les API sont liée à des services web. C’est l’élément qui va permettre de poser nos questions au service web\n",
    "#  par exemple quelle heure est-il pour un service web qui donne l’heure. Les API REST permet de communiquer\n",
    "#  avec les services web REST de façon qu’ils comprennent nos demandes. Les critères d’une API REST sont d’avoir\n",
    "#  une architecture client server avec des requêtes http. Une interface uniforme entre les composants qui permet\n",
    "#  un transfert standardisé des informations."
   ]
  },
  {
   "cell_type": "code",
   "execution_count": 4,
   "metadata": {},
   "outputs": [],
   "source": [
    "#3)\n",
    "#  Une FastAPI est une base fournit qui va permettre de crée des API rapidement et sans à avoir tout à faire.\n",
    "#  Elle va nous fournir un cadre avec plein d’élément qui vont nous faciliter le travail comme le fait de fournir\n",
    "#  des outils pour la validation des donné ou encore les structuré. Elle propose aussi de l’autocomplétions,\n",
    "#  elle va aussi aider au débugging avec l’utilisation des tests unitaires simplifier. \n"
   ]
  }
 ],
 "metadata": {
  "interpreter": {
   "hash": "246b39f186e43b126d12b29c99b4d8e5a10521bcbf78d97468298b1ec7f12da2"
  },
  "kernelspec": {
   "display_name": "Python 3.10.2 ('my_env')",
   "language": "python",
   "name": "python3"
  },
  "language_info": {
   "codemirror_mode": {
    "name": "ipython",
    "version": 3
   },
   "file_extension": ".py",
   "mimetype": "text/x-python",
   "name": "python",
   "nbconvert_exporter": "python",
   "pygments_lexer": "ipython3",
   "version": "3.10.2"
  },
  "orig_nbformat": 4
 },
 "nbformat": 4,
 "nbformat_minor": 2
}
